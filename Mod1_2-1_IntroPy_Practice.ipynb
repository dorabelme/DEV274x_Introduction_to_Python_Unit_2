{
  "cells": [
    {
      "metadata": {},
      "cell_type": "markdown",
      "source": "# 2-1 Intro Python Practice\n## Sequence: String\n\n<font size=\"5\" color=\"#00A0B2\"  face=\"verdana\"> <B>Student will be able to</B></font>  \n- Work with String Characters\n- Slice strings into substrings\n- Iterate through String Characters\n- Use String ~~Tricks~~ Methods"
    },
    {
      "metadata": {},
      "cell_type": "markdown",
      "source": "# &nbsp;\n<font size=\"6\" color=\"#B24C00\"  face=\"verdana\"> <B>Task 1</B></font>\n##  Access String Characters \n### `working_string[index]`\n"
    },
    {
      "metadata": {
        "trusted": true
      },
      "cell_type": "code",
      "source": "# [ ] access and print the second character from planet_name: \"u\"\nplanet_name = \"Jupiter\"\nprint(planet_name[1])\n\n",
      "execution_count": 2,
      "outputs": [
        {
          "output_type": "stream",
          "text": "u\n",
          "name": "stdout"
        }
      ]
    },
    {
      "metadata": {
        "trusted": true
      },
      "cell_type": "code",
      "source": "# [ ] access and print the first character from planet_name: \"J\"\nplanet_name = \"Jupiter\"\n\n",
      "execution_count": null,
      "outputs": []
    },
    {
      "metadata": {
        "trusted": true
      },
      "cell_type": "code",
      "source": "# [ ] access and print the first and last characters from planet_name\nplanet_name = \"Jupiter\"\nprint(planet_name[0])\nprint(planet_name[-1])\n",
      "execution_count": 3,
      "outputs": [
        {
          "output_type": "stream",
          "text": "J\nr\n",
          "name": "stdout"
        }
      ]
    },
    {
      "metadata": {
        "trusted": true
      },
      "cell_type": "code",
      "source": "# [ ] using a negative index access and print the first character from planet_name: \"J\"\nplanet_name = \"Jupiter\"\nprint(planet_name[-7])\n",
      "execution_count": 4,
      "outputs": [
        {
          "output_type": "stream",
          "text": "J\n",
          "name": "stdout"
        }
      ]
    },
    {
      "metadata": {},
      "cell_type": "markdown",
      "source": "# &nbsp;\n<font size=\"6\" color=\"#B24C00\"  face=\"verdana\"> <B>Task 2</B></font>\n## slice\n### `working_string[start:stop]`\n### `working_string[start:stop:step]`"
    },
    {
      "metadata": {
        "trusted": true
      },
      "cell_type": "code",
      "source": "# [ ] print planet_name sliced into the first 3 characters and remaining characters\nplanet_name = \"Neptune\"\nprint(planet_name[0:3])\nprint(planet_name[3:])\n",
      "execution_count": 5,
      "outputs": [
        {
          "output_type": "stream",
          "text": "Nep\ntune\n",
          "name": "stdout"
        }
      ]
    },
    {
      "metadata": {
        "trusted": true
      },
      "cell_type": "code",
      "source": "# [ ] print 1st char and then every 3rd char of wise_words\n# use string slice with a step\nwise_words = 'Play it who opens'\nprint(wise_words[::3])\n",
      "execution_count": 6,
      "outputs": [
        {
          "output_type": "stream",
          "text": "Python\n",
          "name": "stdout"
        }
      ]
    },
    {
      "metadata": {
        "trusted": true
      },
      "cell_type": "code",
      "source": "# [ ] print planet_name in reverse\nprint(planet_name[::-1])\n",
      "execution_count": 7,
      "outputs": [
        {
          "output_type": "stream",
          "text": "enutpeN\n",
          "name": "stdout"
        }
      ]
    },
    {
      "metadata": {
        "collapsed": true
      },
      "cell_type": "markdown",
      "source": "# &nbsp;\n<font size=\"6\" color=\"#B24C00\"  face=\"verdana\"> <B>Task 3</B></font>\n\n## iterate a String\n### `for letter in sentence:`"
    },
    {
      "metadata": {
        "trusted": true
      },
      "cell_type": "code",
      "source": "# [ ] Get user input for 1 fav_food\n# [ ] iterate through letters in fav_food \n#    - print each letter on a new line\nfav_food = input(\"What's your favorite food? \")\nfor letter in fav_food:\n    print(letter)\n\n\n",
      "execution_count": 8,
      "outputs": [
        {
          "output_type": "stream",
          "name": "stdout",
          "text": "What's your favorite food? Pasta\nP\na\ns\nt\na\n"
        }
      ]
    },
    {
      "metadata": {
        "trusted": true
      },
      "cell_type": "code",
      "source": "# [ ] iterate work_tip string concatenate each letter to variable: new_string \n# [ ] concatenate the letter or a \"-\" instead of a space \" \"\n# tip: concatenate string example: word = word + \"a\"\nwork_tip = \"Good code is commented code\"\nnew_string = \" \"\n\nfor letter in work_tip:\n    if letter == \" \":\n        new_string = new_string + \"-\"\n    else:\n        new_string += letter\n        \nprint(new_string)\n",
      "execution_count": 9,
      "outputs": [
        {
          "output_type": "stream",
          "text": " Good-code-is-commented-code\n",
          "name": "stdout"
        }
      ]
    },
    {
      "metadata": {
        "trusted": true
      },
      "cell_type": "code",
      "source": "# [ ] Print the first 4 letters of name on new line\nname = \"Hiroto\"\n\nfor letter in name[:4]:\n    print(letter)\n\n",
      "execution_count": 10,
      "outputs": [
        {
          "output_type": "stream",
          "text": "H\ni\nr\no\n",
          "name": "stdout"
        }
      ]
    },
    {
      "metadata": {
        "trusted": true
      },
      "cell_type": "code",
      "source": "# [ ] Print every other letter from 2nd to last letter of name \nname = \"Hiroto\"\n\nfor letter in name[1::2]:\n    print(letter)\n\n",
      "execution_count": 11,
      "outputs": [
        {
          "output_type": "stream",
          "text": "i\no\no\n",
          "name": "stdout"
        }
      ]
    },
    {
      "metadata": {},
      "cell_type": "markdown",
      "source": "# &nbsp;\n<font size=\"6\" color=\"#B24C00\"  face=\"verdana\"> <B>Task 4</B></font>\n\n## Program: Mystery Name\n- get user input for first_name\n- create an empty string variable: new_name\n- iterate through letters in first_name Backwards \n  - add each letter to new_name as you iterate\n  - Replace the letter if \"e\", \"t\" or \"a\" with \"?\" *(hint: if, elif, elif, else)*\n- print new_name  \n\n**example: \"Alton\" = \"no?l?\"**"
    },
    {
      "metadata": {
        "trusted": true
      },
      "cell_type": "code",
      "source": "# [ ] Create Mystery Name\nfirst_name = (\"Enter your first name: \")\nnew_name = \" \"\n\nfor letter in first_name[::-1]:\n    if letter.lower() == \"e\":\n        new_name += \"?\"\n    elif letter.lower() == \"t\":\n        new_name += \"?\"\n    elif letter.lower() == \"a\":\n        new_name += \"?\"\n    else:\n        new_name += letter\n\nprint(new_name)\n",
      "execution_count": 15,
      "outputs": [
        {
          "output_type": "stream",
          "text": "  :?m?n ?srif ruoy r??n?\n",
          "name": "stdout"
        }
      ]
    },
    {
      "metadata": {},
      "cell_type": "markdown",
      "source": "# &nbsp;\n<font size=\"6\" color=\"#B24C00\"  face=\"verdana\"> <B>Task 4</B></font>\n## `len(), .find(), .count()`   \n\n```  \n- len(working_string)\n- .find(\"i\")\n- .find(\"i\",start)\n- .find(\"i\", start, end)\n- .count(\"i\")\n- .count(\"i\", start)\n- .count(\"i\", start, end)\n```   "
    },
    {
      "metadata": {
        "trusted": true
      },
      "cell_type": "code",
      "source": "# [ ] find and display the length of the string: topic\ntopic = \"len() returns the length of a string\"\nprint(len(topic))\n",
      "execution_count": 18,
      "outputs": [
        {
          "output_type": "stream",
          "text": "36\n",
          "name": "stdout"
        }
      ]
    },
    {
      "metadata": {
        "trusted": true
      },
      "cell_type": "code",
      "source": "# [ ] use len() to find and display the mid_pt (middle) index (+/- 1) of the string: topic\n# note: index values are whole numbers\ntopic = \"len() can take a sequence, like a string, as an argument\"\nmid_point = int(len(topic)/2)\n\nprint(mid_point)\n",
      "execution_count": 19,
      "outputs": [
        {
          "output_type": "stream",
          "text": "28\n",
          "name": "stdout"
        }
      ]
    },
    {
      "metadata": {
        "trusted": true
      },
      "cell_type": "code",
      "source": "# [ ] print index where first instance of the word  \"code\" starts using .find()\nwork_tip = \"Good code is commented code\"\nprint(work_tip.find(\"code\"))\n",
      "execution_count": 20,
      "outputs": [
        {
          "output_type": "stream",
          "text": "5\n",
          "name": "stdout"
        }
      ]
    },
    {
      "metadata": {
        "trusted": true
      },
      "cell_type": "code",
      "source": "# [ ] search for \"code\" in code_tip using .find() \n# [ ] search substring with substring index start= 13,end = last char \n# [ ] save result in variable: code_index\n# [ ] display index of where \"code\" is found, or print \"not found\" if code_index == -1\nwork_tip = \"Good code is commented code\"\ncode_tip = work_tip.find(\"code\")\ncode_index = work_tip.find(\"code\", 13, 26 )\n\nif code_index == -1:\n    print(\"Not found\")\nelse:\n    print(code_index)",
      "execution_count": 23,
      "outputs": [
        {
          "output_type": "stream",
          "text": "Not found\n",
          "name": "stdout"
        }
      ]
    },
    {
      "metadata": {
        "collapsed": true
      },
      "cell_type": "markdown",
      "source": "# &nbsp;\n<font size=\"6\" color=\"#B24C00\"  face=\"verdana\"> <B>Task 5</B></font>"
    },
    {
      "metadata": {
        "trusted": true
      },
      "cell_type": "code",
      "source": "# [ ] find and report (print) number of w's, o's + use of word \"code\"\nwork_tip = \"Good code is commented code\"\nprint(work_tip)\nprint(\"how many w's? \", work_tip.count(\"w\"))\nprint(\"how many o's? \", work_tip.count(\"o\"))\nprint(\"uses 'code', how many times? \", work_tip.count(\"code\"))\n",
      "execution_count": 24,
      "outputs": [
        {
          "output_type": "stream",
          "text": "Good code is commented code\nhow many w's?  0\nhow many o's?  5\nuses 'code', how many times?  2\n",
          "name": "stdout"
        }
      ]
    },
    {
      "metadata": {
        "trusted": true
      },
      "cell_type": "code",
      "source": "# [ ]  count times letter \"i\" appears in code_tip string\n# [ ] find and display the index of all the letter i's in code_tip\n# Remember: if .find(\"i\") has No Match, -1 is returned\ncode_tip = \"code a conditional decision like you would say it\"\nprint (\"code_tip:\" , code_tip)\n\nlocation = code_tip.find(\"i\")\n\nwhile location >= 0:\n    print(\"'i' at index =\", location)\n    location = code_tip.find(\"i\", location + 1)\n    \nprint(\"no more i's\")\n",
      "execution_count": 57,
      "outputs": [
        {
          "output_type": "stream",
          "text": "code_tip: code a conditional decision like you would say it\n'i' at index = 11\n'i' at index = 13\n'i' at index = 22\n'i' at index = 24\n'i' at index = 29\n'i' at index = 47\nno more i's\n",
          "name": "stdout"
        }
      ]
    },
    {
      "metadata": {},
      "cell_type": "markdown",
      "source": "# &nbsp;\n<font size=\"6\" color=\"#B24C00\"  face=\"verdana\"> <B>Task 6</B></font>\n\n## Program: Words after \"G\"/\"g\"\nCreate a program inputs a phrase (like a famous quotation) and prints all of the words that start with h-z\n\nSample input:  \n`enter a 1 sentence quote, non-alpha separate words:` **`Wheresoever you go, go with all your heart`**  \n\nSample output:\n```\nWHERESOEVER\nYOU\nWITH\nYOUR\nHEART\n```\n- split the words by building a placeholder variable: **`word`**  \n  - loop each character in the input string  \n  - check if character is a letter  \n  - add a letter to **`word`** each loop until a non-alpha char is encountered  \n\n- **if** character is alpha \n  - add character to **`word`**    \n  - non-alpha detected (space, punctuation, digit,...) defines the end of a word and goes to **`else`**    \n- **`else`**  \n  - check **`if`** word is greater than \"g\" alphabetically\n      - print word \n      - set word = empty string\n  - or **else** \n    - set word = empty string and build the next word  \n\nHint: use `.lower()`"
    },
    {
      "metadata": {
        "trusted": true
      },
      "cell_type": "code",
      "source": "# [] create words after \"G\"\n# sample quote \"Wheresoever you go, go with all your heart\" ~ Confucius (551 BC - 479 BC)\nquote = \"Wheresoever you go, go with all your heart\"\nword = \"\"\n\nfor letter in quote:\n    if letter.isalpha():\n        word += letter\n    elif word.lower() >= \"g\":\n        print(word.upper())\n        word = \"\"\n    else:\n        word = \"\"\n        if word.lower() >= \"g\":\n            print(word.upper())\n            word = \"\"\n        else:\n            word = \"\"\n\n",
      "execution_count": 64,
      "outputs": [
        {
          "output_type": "stream",
          "text": "WHERESOEVER\nYOU\nGO\nGO\nWITH\nYOUR\n",
          "name": "stdout"
        }
      ]
    },
    {
      "metadata": {
        "collapsed": true
      },
      "cell_type": "markdown",
      "source": "[Terms of use](http://go.microsoft.com/fwlink/?LinkID=206977) &nbsp; [Privacy & cookies](https://go.microsoft.com/fwlink/?LinkId=521839) &nbsp; © 2017 Microsoft"
    }
  ],
  "metadata": {
    "anaconda-cloud": {},
    "kernelspec": {
      "name": "python3",
      "display_name": "Python 3",
      "language": "python"
    },
    "language_info": {
      "mimetype": "text/x-python",
      "nbconvert_exporter": "python",
      "name": "python",
      "pygments_lexer": "ipython3",
      "version": "3.5.4",
      "file_extension": ".py",
      "codemirror_mode": {
        "version": 3,
        "name": "ipython"
      }
    }
  },
  "nbformat": 4,
  "nbformat_minor": 1
}