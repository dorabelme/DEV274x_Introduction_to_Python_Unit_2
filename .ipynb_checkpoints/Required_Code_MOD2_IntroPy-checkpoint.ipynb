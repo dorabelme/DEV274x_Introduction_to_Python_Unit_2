{
  "cells": [
    {
      "metadata": {},
      "cell_type": "markdown",
      "source": "#  Module 2 Required Coding Activity  \nIntroduction to Python (Unit 2) Fundamentals \n\n**This Activity is intended to be completed in the jupyter notebook, Required_Code_MOD2_IntroPy.ipynb, and then pasted into the assessment page that follows.**   \n \nAll course .ipynb Jupyter Notebooks are available from the project files download topic in Module 1, Section 1.\n\nThis is an activity based on code similar to the Jupyter Notebook **`Practice_MOD02_IntroPy.ipynb`** which you may have completed.  \n\n| Important Assignment Requirements |  \n|:-------------------------------|  \n| **NOTE:** This program requires creating a function using **`def`** and **`return`**, using **`print`** output, **`input`**, **`if`**, **`in`** keywords, **`.append()`**, **`.pop()`**, **`.remove()`** list methods.  As well as other standard Python |   \n\n## Program: list-o-matic  \nThis program takes string input and checks if that string is in a list of strings    \n- if string is in the list it removes the first instance from list  \n- if string is not in the list the input gets appended to the list  \n- if the string is empty then the last item is popped from the list \n- if the **list becomes empty** the program ends  \n- if the user enters \"quit\" then the program ends  \n\nprogram has 2 parts  \n- **program flow** which can be modified to ask for a specific type of item.  This is the programmers choice.  Add a list of fish, trees, books, movies, songs.... your choice.  \n- **list-o-matic** Function which takes arguments of a string and a list.  The function modifies the list and returns a message as seen below.  \n\n![TODO: upload image to blob](https://q4tiyg-ch3302.files.1drv.com/y4mkvwrxHSIqinTvp_nNGFiMn_yyJ0dsEtCzPpG_hsFMRdyEED4ExPdsWmbdPIKRpgU25VxFIUAGBdz0yzqumtxw7wy_pAJMJ3MeZ6PJQKyej6UwN6N6zOmnRq6106aqvXJB43RKRJgB2oMmidb9Zl0OBjmvFVowm-XtD2wUW5bJrgd4LS8I5Nso_vXqfpNCANRYcKe4WnjIWds4KoV4sjPIg?width=717&height=603&cropmode=none)\n\n**[ ]** initialize a list with several strings at the beginning of the program flow and follow the flow chart and output examples\n\n *example input/output*  \n ```\nlook at all the animals ['cat', 'goat', 'cat']\nenter the name of an animal: horse\n1 instance of horse appended to list\n\nlook at all the animals ['cat', 'goat', 'cat', 'horse']\nenter the name of an animal: cat\n1 instance of cat removed from list\n\nlook at all the animals ['goat', 'cat', 'horse']\nenter the name of an animal: cat\n1 instance of cat removed from list\n\nlook at all the animals ['goat', 'horse']\nenter the name of an animal:          (<-- entered empty string)\nhorse popped from list\n\nlook at all the animals ['goat']\nenter the name of an animal:          (<-- entered empty string)\ngoat popped from list\n\nGoodbye!\n```  \n\n*example 2*\n```\nlook at all the animals ['cat', 'goat', 'cat']\nenter the name of an animal: Quit\nGoodbye!\n```  \n\n"
    },
    {
      "metadata": {
        "trusted": true
      },
      "cell_type": "code",
      "source": "# [] create list-o-matic\n# [] copy and paste in edX assignment page\n\nalist = [\"cat\", \"goat\", \"cat\"]\n\n\ndef list_o_matic(alist, user_input):\n    if user_input == \"\":\n        print(alist.pop(), \"popped from list\")\n    else:\n        if user_input in list:\n            print(\"1 instance of\", user_input, \"removed from list\")\n            return alist.remove(user_input)\n        else:\n            print(\"1 instance of\", user_input, \"appended to list\")\n            return alist.append(user_input)\n     \nwhile alist:\n    print('look at all the animals ', alist)\n    user_input = input(\"enter the name of an animal: \")\n    if user_input == \"Quit\".lower():\n        print(\"Goodbye!\")\n    else:\n        list_o_matic(alist, user_input)\n        \n    \n    \n   \n\n",
      "execution_count": 30,
      "outputs": [
        {
          "output_type": "stream",
          "text": "look at all the animals  ['cat', 'goat', 'cat']\nenter the name of an animal: dog\n",
          "name": "stdout"
        },
        {
          "output_type": "error",
          "ename": "TypeError",
          "evalue": "argument of type 'type' is not iterable",
          "traceback": [
            "\u001b[0;31m---------------------------------------------------------------------------\u001b[0m",
            "\u001b[0;31mTypeError\u001b[0m                                 Traceback (most recent call last)",
            "\u001b[0;32m<ipython-input-30-06142b27242b>\u001b[0m in \u001b[0;36m<module>\u001b[0;34m()\u001b[0m\n\u001b[1;32m     22\u001b[0m         \u001b[0mprint\u001b[0m\u001b[0;34m(\u001b[0m\u001b[0;34m\"Goodbye!\"\u001b[0m\u001b[0;34m)\u001b[0m\u001b[0;34m\u001b[0m\u001b[0m\n\u001b[1;32m     23\u001b[0m     \u001b[0;32melse\u001b[0m\u001b[0;34m:\u001b[0m\u001b[0;34m\u001b[0m\u001b[0m\n\u001b[0;32m---> 24\u001b[0;31m         \u001b[0mlist_o_matic\u001b[0m\u001b[0;34m(\u001b[0m\u001b[0malist\u001b[0m\u001b[0;34m,\u001b[0m \u001b[0muser_input\u001b[0m\u001b[0;34m)\u001b[0m\u001b[0;34m\u001b[0m\u001b[0m\n\u001b[0m\u001b[1;32m     25\u001b[0m \u001b[0;34m\u001b[0m\u001b[0m\n\u001b[1;32m     26\u001b[0m \u001b[0;34m\u001b[0m\u001b[0m\n",
            "\u001b[0;32m<ipython-input-30-06142b27242b>\u001b[0m in \u001b[0;36mlist_o_matic\u001b[0;34m(alist, user_input)\u001b[0m\n\u001b[1;32m      9\u001b[0m         \u001b[0mprint\u001b[0m\u001b[0;34m(\u001b[0m\u001b[0malist\u001b[0m\u001b[0;34m.\u001b[0m\u001b[0mpop\u001b[0m\u001b[0;34m(\u001b[0m\u001b[0;34m)\u001b[0m\u001b[0;34m,\u001b[0m \u001b[0;34m\"popped from list\"\u001b[0m\u001b[0;34m)\u001b[0m\u001b[0;34m\u001b[0m\u001b[0m\n\u001b[1;32m     10\u001b[0m     \u001b[0;32melse\u001b[0m\u001b[0;34m:\u001b[0m\u001b[0;34m\u001b[0m\u001b[0m\n\u001b[0;32m---> 11\u001b[0;31m         \u001b[0;32mif\u001b[0m \u001b[0muser_input\u001b[0m \u001b[0;32min\u001b[0m \u001b[0mlist\u001b[0m\u001b[0;34m:\u001b[0m\u001b[0;34m\u001b[0m\u001b[0m\n\u001b[0m\u001b[1;32m     12\u001b[0m             \u001b[0mprint\u001b[0m\u001b[0;34m(\u001b[0m\u001b[0;34m\"1 instance of\"\u001b[0m\u001b[0;34m,\u001b[0m \u001b[0muser_input\u001b[0m\u001b[0;34m,\u001b[0m \u001b[0;34m\"removed from list\"\u001b[0m\u001b[0;34m)\u001b[0m\u001b[0;34m\u001b[0m\u001b[0m\n\u001b[1;32m     13\u001b[0m             \u001b[0;32mreturn\u001b[0m \u001b[0malist\u001b[0m\u001b[0;34m.\u001b[0m\u001b[0mremove\u001b[0m\u001b[0;34m(\u001b[0m\u001b[0muser_input\u001b[0m\u001b[0;34m)\u001b[0m\u001b[0;34m\u001b[0m\u001b[0m\n",
            "\u001b[0;31mTypeError\u001b[0m: argument of type 'type' is not iterable"
          ]
        }
      ]
    },
    {
      "metadata": {},
      "cell_type": "markdown",
      "source": "### Need assignment tips and clarification? \nSee the video on the \"End of Module coding assignment > Module 2 Required Code Description\" course page on [edX](https://courses.edx.org/courses/course-v1:Microsoft+DEV274x+4T2017/course)    \n\n# Important:  [How to submit code by pasting](https://courses.edx.org/courses/course-v1:Microsoft+DEV274x+2T2017/wiki/Microsoft.DEV274x.2T2017/paste-code-end-module-coding-assignments/)\n"
    },
    {
      "metadata": {},
      "cell_type": "markdown",
      "source": "[Terms of use](http://go.microsoft.com/fwlink/?LinkID=206977) &nbsp; [Privacy & cookies](https://go.microsoft.com/fwlink/?LinkId=521839) &nbsp; © 2017 Microsoft"
    }
  ],
  "metadata": {
    "anaconda-cloud": {},
    "kernelspec": {
      "name": "python3",
      "display_name": "Python 3",
      "language": "python"
    }
  },
  "nbformat": 4,
  "nbformat_minor": 1
}